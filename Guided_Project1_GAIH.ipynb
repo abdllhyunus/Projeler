{
  "nbformat": 4,
  "nbformat_minor": 0,
  "metadata": {
    "colab": {
      "name": "Guided_Project1",
      "provenance": [],
      "collapsed_sections": []
    },
    "kernelspec": {
      "name": "python3",
      "display_name": "Python 3"
    },
    "language_info": {
      "name": "python"
    }
  },
  "cells": [
    {
      "cell_type": "code",
      "source": [
        "item_list = ['Laptop', 'Headset', 'Second monitor', 'Mousepad', 'USB drive', 'External drive']"
      ],
      "metadata": {
        "id": "AxyBshVeUijz"
      },
      "execution_count": null,
      "outputs": []
    },
    {
      "cell_type": "code",
      "source": [
        "item_list.append(['Mouse', 'Pencil', 'Pen'])\n",
        "item_list.remove('Mouse')\n",
        "item_list[0:3]"
      ],
      "metadata": {
        "colab": {
          "base_uri": "https://localhost:8080/",
          "height": 198
        },
        "id": "6lyzBE8me-7D",
        "outputId": "1807a4c0-c42d-4326-af07-18d088a729a3"
      },
      "execution_count": null,
      "outputs": [
        {
          "output_type": "error",
          "ename": "ValueError",
          "evalue": "ignored",
          "traceback": [
            "\u001b[0;31m---------------------------------------------------------------------------\u001b[0m",
            "\u001b[0;31mValueError\u001b[0m                                Traceback (most recent call last)",
            "\u001b[0;32m<ipython-input-55-285e4bb0f276>\u001b[0m in \u001b[0;36m<module>\u001b[0;34m()\u001b[0m\n\u001b[1;32m      1\u001b[0m \u001b[0mitem_list\u001b[0m\u001b[0;34m.\u001b[0m\u001b[0mappend\u001b[0m\u001b[0;34m(\u001b[0m\u001b[0;34m[\u001b[0m\u001b[0;34m'Mouse'\u001b[0m\u001b[0;34m,\u001b[0m \u001b[0;34m'Pencil'\u001b[0m\u001b[0;34m,\u001b[0m \u001b[0;34m'Pen'\u001b[0m\u001b[0;34m]\u001b[0m\u001b[0;34m)\u001b[0m\u001b[0;34m\u001b[0m\u001b[0;34m\u001b[0m\u001b[0m\n\u001b[0;32m----> 2\u001b[0;31m \u001b[0mitem_list\u001b[0m\u001b[0;34m.\u001b[0m\u001b[0mremove\u001b[0m\u001b[0;34m(\u001b[0m\u001b[0;34m'Mouse'\u001b[0m\u001b[0;34m)\u001b[0m\u001b[0;34m\u001b[0m\u001b[0;34m\u001b[0m\u001b[0m\n\u001b[0m\u001b[1;32m      3\u001b[0m \u001b[0mitem_list\u001b[0m\u001b[0;34m[\u001b[0m\u001b[0;36m0\u001b[0m\u001b[0;34m:\u001b[0m\u001b[0;36m3\u001b[0m\u001b[0;34m]\u001b[0m\u001b[0;34m\u001b[0m\u001b[0;34m\u001b[0m\u001b[0m\n",
            "\u001b[0;31mValueError\u001b[0m: list.remove(x): x not in list"
          ]
        }
      ]
    },
    {
      "cell_type": "code",
      "execution_count": null,
      "metadata": {
        "id": "sv-o_1AQQbHt"
      },
      "outputs": [],
      "source": [
        "limit = 5000"
      ]
    },
    {
      "cell_type": "code",
      "source": [
        "price_sheet = {\n",
        "    'Laptop' : 1500,\n",
        "    'Headset' : 100,\n",
        "    'Second monitor' : 200,\n",
        "    'Mousepad' : 50,\n",
        "    'USB drive' : 70,\n",
        "    'External drive' : 250\n",
        "}"
      ],
      "metadata": {
        "id": "Kf315crPQi2O"
      },
      "execution_count": null,
      "outputs": []
    },
    {
      "cell_type": "code",
      "source": [
        "cart = []"
      ],
      "metadata": {
        "id": "HaffPmkFQ-7G"
      },
      "execution_count": null,
      "outputs": []
    },
    {
      "cell_type": "code",
      "source": [
        "def add_to_cart (item, quantity):\n",
        "  cart.append((item, quantity))\n",
        "  item_list.remove(item)"
      ],
      "metadata": {
        "id": "G5V6rNjhREoH"
      },
      "execution_count": null,
      "outputs": []
    },
    {
      "cell_type": "code",
      "source": [
        "def create_invoice():\n",
        "  total_amount_inc_tax = 0\n",
        "  for item, quantity in cart:\n",
        "    price = price_sheet[item]\n",
        "    tax = 0.25 * price\n",
        "    total = (tax + price) * quantity\n",
        "    total_amount_inc_tax += total\n",
        "    print('Item:', item, '\\t', 'Price:', price, '\\t', 'Quantity:', quantity, '\\t', 'Tax:', tax, '\\t', 'Total:', total, '\\n')\n",
        "\n",
        "  print('After the taxes are applied the total amount is:', '\\t', total_amount_inc_tax)\n",
        "\n",
        "  return total_amount_inc_tax"
      ],
      "metadata": {
        "id": "x_GNLtMrRO7X"
      },
      "execution_count": null,
      "outputs": []
    },
    {
      "cell_type": "code",
      "source": [
        "def checkout():\n",
        "  global limit\n",
        "  total_amount = create_invoice()\n",
        "  if limit == 0:\n",
        "    print('You don\\'t have any budget')\n",
        "  elif total_amount > limit:\n",
        "    print('The amount you have to pay is above the spending limit. You have to drop some items.')\n",
        "  else:\n",
        "    limit -= total_amount\n",
        "    print(f'The total amount (incl. taxes) you\\'ve paid is {total_amount}. You have {limit} dollars left.')"
      ],
      "metadata": {
        "id": "R3AZYLoHSjob"
      },
      "execution_count": null,
      "outputs": []
    },
    {
      "cell_type": "code",
      "source": [
        "add_to_cart('Laptop', 1)\n",
        "add_to_cart('Headset', 8)\n",
        "add_to_cart('Second monitor', 1)\n",
        "add_to_cart('Mousepad', 1)\n",
        "add_to_cart('USB drive', 2)\n",
        "add_to_cart('External drive', 4)\n",
        "\n",
        "checkout()"
      ],
      "metadata": {
        "colab": {
          "base_uri": "https://localhost:8080/"
        },
        "id": "0DfgNo6uSv5L",
        "outputId": "b9fafdd8-99de-43af-c07b-808d7ba243c2"
      },
      "execution_count": null,
      "outputs": [
        {
          "output_type": "stream",
          "name": "stdout",
          "text": [
            "Item: Laptop \t Price: 1500 \t Quantity: 1 \t Tax: 375.0 \t Total: 1875.0 \n",
            "\n",
            "Item: Headset \t Price: 100 \t Quantity: 8 \t Tax: 25.0 \t Total: 1000.0 \n",
            "\n",
            "Item: Second monitor \t Price: 200 \t Quantity: 1 \t Tax: 50.0 \t Total: 250.0 \n",
            "\n",
            "Item: Mousepad \t Price: 50 \t Quantity: 1 \t Tax: 12.5 \t Total: 62.5 \n",
            "\n",
            "Item: USB drive \t Price: 70 \t Quantity: 2 \t Tax: 17.5 \t Total: 175.0 \n",
            "\n",
            "Item: External drive \t Price: 250 \t Quantity: 4 \t Tax: 62.5 \t Total: 1250.0 \n",
            "\n",
            "After the taxes are applied the total amount is: \t 4612.5\n",
            "The total amount (incl. taxes) you've paid is 4612.5. You have 387.5 dollars left.\n"
          ]
        }
      ]
    },
    {
      "cell_type": "code",
      "source": [
        "# Rock, paper, scissor game."
      ],
      "metadata": {
        "id": "hmtmj6wdUGF9"
      },
      "execution_count": null,
      "outputs": []
    },
    {
      "cell_type": "code",
      "source": [
        "import random"
      ],
      "metadata": {
        "id": "hgbxDuC9WWvi"
      },
      "execution_count": null,
      "outputs": []
    },
    {
      "cell_type": "code",
      "source": [
        "action_list = ['rock', 'paper', 'scissors']"
      ],
      "metadata": {
        "id": "Y49etq_wWYy5"
      },
      "execution_count": null,
      "outputs": []
    },
    {
      "cell_type": "code",
      "source": [
        "computer_score = 0\n",
        "player_score = 0\n",
        "\n",
        "total_rounds = input('How many rounds do you want to play? Please enter a number here: ')\n",
        "\n",
        "round_counter = 0\n",
        "\n",
        "while True:\n",
        "\n",
        "  round_counter += 1\n",
        "  print('Round number:', round_counter)\n",
        "\n",
        "  computer_choice = random.choice(action_list)\n",
        "\n",
        "  player_choice = input('Please choose your action:')\n",
        "\n",
        "  print('Computer: ', computer_choice)\n",
        "  print('Player: ', player_choice)\n",
        "\n",
        "  if computer_choice == player_choice:\n",
        "    print('Tie! Both players chose the same action.')\n",
        "\n",
        "  elif computer_choice == 'paper':\n",
        "    if player_choice == 'rock':\n",
        "      print('Winner is: Computer')\n",
        "      computer_score += 1\n",
        "    else:\n",
        "      print('Winner is: Player')\n",
        "      player_score += 1\n",
        "    \n",
        "  elif computer_choice == 'rock':\n",
        "      if player_choice == 'paper':\n",
        "        print('Winner is: Player')\n",
        "        player_score += 1\n",
        "      else:\n",
        "        print('Winner is: Computer')\n",
        "        computer_score += 1\n",
        "\n",
        "  elif computer_choice == 'scissors':\n",
        "      if player_choice == 'paper':\n",
        "        print('Winner is: Computer')\n",
        "        computer_score += 1\n",
        "      else:\n",
        "        print('Winner is: Player')\n",
        "        player_score += 1\n",
        "\n",
        "  if round_counter == int(total_rounds):\n",
        "      break\n",
        "\n",
        "if computer_score == player_score:\n",
        "  print('There is no winner, tie.', computer_score, ':', player_score)\n",
        "elif computer_score > player_score:\n",
        "  print('Computer won with score', computer_score, ':', player_score)\n",
        "elif computer_score < player_score:\n",
        "  print('Player won with score', computer_score, ':', player_score)  "
      ],
      "metadata": {
        "colab": {
          "base_uri": "https://localhost:8080/",
          "height": 334
        },
        "id": "SvCFoTurWgzw",
        "outputId": "f0d9b797-9865-4576-b50b-a6c685043dc0"
      },
      "execution_count": null,
      "outputs": [
        {
          "output_type": "stream",
          "name": "stdout",
          "text": [
            "How many rounds do you want to play? Please enter a number here: pen\n",
            "Round number: 1\n",
            "Please choose your action:pen\n",
            "Computer:  rock\n",
            "Player:  pen\n",
            "Winner is: Computer\n"
          ]
        },
        {
          "output_type": "error",
          "ename": "ValueError",
          "evalue": "ignored",
          "traceback": [
            "\u001b[0;31m---------------------------------------------------------------------------\u001b[0m",
            "\u001b[0;31mValueError\u001b[0m                                Traceback (most recent call last)",
            "\u001b[0;32m<ipython-input-52-35c38c92b7a1>\u001b[0m in \u001b[0;36m<module>\u001b[0;34m()\u001b[0m\n\u001b[1;32m     45\u001b[0m         \u001b[0mplayer_score\u001b[0m \u001b[0;34m+=\u001b[0m \u001b[0;36m1\u001b[0m\u001b[0;34m\u001b[0m\u001b[0;34m\u001b[0m\u001b[0m\n\u001b[1;32m     46\u001b[0m \u001b[0;34m\u001b[0m\u001b[0m\n\u001b[0;32m---> 47\u001b[0;31m   \u001b[0;32mif\u001b[0m \u001b[0mround_counter\u001b[0m \u001b[0;34m==\u001b[0m \u001b[0mint\u001b[0m\u001b[0;34m(\u001b[0m\u001b[0mtotal_rounds\u001b[0m\u001b[0;34m)\u001b[0m\u001b[0;34m:\u001b[0m\u001b[0;34m\u001b[0m\u001b[0;34m\u001b[0m\u001b[0m\n\u001b[0m\u001b[1;32m     48\u001b[0m       \u001b[0;32mbreak\u001b[0m\u001b[0;34m\u001b[0m\u001b[0;34m\u001b[0m\u001b[0m\n\u001b[1;32m     49\u001b[0m \u001b[0;34m\u001b[0m\u001b[0m\n",
            "\u001b[0;31mValueError\u001b[0m: invalid literal for int() with base 10: 'pen'"
          ]
        }
      ]
    },
    {
      "cell_type": "code",
      "source": [
        "# Create salesperson_revenue dict."
      ],
      "metadata": {
        "id": "RWDYbM6zXVYG"
      },
      "execution_count": null,
      "outputs": []
    },
    {
      "cell_type": "code",
      "source": [
        "salesperson_revenue = {\n",
        "    'Ben': 0,\n",
        "    'Omer': 0,\n",
        "    'Karen': 0,\n",
        "    'Celine': 0,\n",
        "    'Sue': 0,\n",
        "    'Bora': 0,\n",
        "    'Rose': 0,\n",
        "    'Ellen': 0\n",
        "}"
      ],
      "metadata": {
        "id": "r6U33-9icouD"
      },
      "execution_count": null,
      "outputs": []
    },
    {
      "cell_type": "code",
      "source": [
        "def enter_revenue(name, revenue):\n",
        "  global salesperson_revenue\n",
        "  salesperson_revenue[name] += revenue"
      ],
      "metadata": {
        "id": "61Cy4u33dAZx"
      },
      "execution_count": null,
      "outputs": []
    },
    {
      "cell_type": "code",
      "source": [
        "while True:\n",
        "  name = input('Employee name: ')\n",
        "  if name == 'quit':\n",
        "    break\n",
        "  revenue = int(input('Enter revenue: '))\n",
        "  enter_revenue(name, revenue)\n",
        "  print(f'{name}\\'s revenue is {salesperson_revenue[name]}') "
      ],
      "metadata": {
        "colab": {
          "base_uri": "https://localhost:8080/"
        },
        "id": "jEsB5tpTdLCE",
        "outputId": "3afc299e-a44b-419c-cc23-f40c3386a84d"
      },
      "execution_count": null,
      "outputs": [
        {
          "name": "stdout",
          "output_type": "stream",
          "text": [
            "Employee name: Ben\n",
            "Enter revenue: 20\n",
            "Ben's revenue is 20\n",
            "Employee name: Omer\n",
            "Enter revenue: 50\n",
            "Omer's revenue is 50\n",
            "Employee name: Ben\n",
            "Enter revenue: 115\n",
            "Ben's revenue is 135\n",
            "Employee name: quit\n"
          ]
        }
      ]
    },
    {
      "cell_type": "code",
      "source": [
        "print(salesperson_revenue)"
      ],
      "metadata": {
        "colab": {
          "base_uri": "https://localhost:8080/"
        },
        "id": "8iHKUgv5dvvp",
        "outputId": "220f2ca9-538a-4feb-a460-d5547336394a"
      },
      "execution_count": null,
      "outputs": [
        {
          "output_type": "stream",
          "name": "stdout",
          "text": [
            "{'Ben': 135, 'Omer': 50, 'Karen': 0, 'Celine': 0, 'Sue': 0, 'Bora': 0, 'Rose': 0, 'Ellen': 0}\n"
          ]
        }
      ]
    },
    {
      "cell_type": "code",
      "source": [
        "name = 'Johnny Doe'\n",
        "\n",
        "def func():\n",
        "  global name\n",
        "  name = 'John Doe'\n",
        "\n",
        "func()\n",
        "print(name)"
      ],
      "metadata": {
        "colab": {
          "base_uri": "https://localhost:8080/"
        },
        "id": "fhGMUIBeeBHk",
        "outputId": "ab292f00-75f9-457c-cd5f-44999e7e80c3"
      },
      "execution_count": null,
      "outputs": [
        {
          "output_type": "stream",
          "name": "stdout",
          "text": [
            "John Doe\n"
          ]
        }
      ]
    },
    {
      "cell_type": "code",
      "source": [
        ""
      ],
      "metadata": {
        "id": "SXQtTIiug7jZ"
      },
      "execution_count": null,
      "outputs": []
    }
  ]
}